{
  "nbformat": 4,
  "nbformat_minor": 0,
  "metadata": {
    "colab": {
      "provenance": []
    },
    "kernelspec": {
      "name": "python3",
      "display_name": "Python 3"
    },
    "language_info": {
      "name": "python"
    }
  },
  "cells": [
    {
      "cell_type": "markdown",
      "source": [
        "**List:**\n",
        "\n",
        "append(): Add an element to the end of the list.\n",
        "\n",
        "extend(): Add elements from an iterable to the end of the list.\n",
        "\n",
        "insert(): Insert an element at a specific position.\n",
        "\n",
        "remove(): Remove the first occurrence of a value.\n",
        "\n",
        "pop(): Remove and return an element by index.\n",
        "\n",
        "index(): Find the index of the first occurrence of a value.\n",
        "\n",
        "count(): Count the number of occurrences of a value.\n",
        "\n",
        "sort(): Sort the list in place.\n",
        "\n",
        "reverse(): Reverse the order of elements."
      ],
      "metadata": {
        "id": "lhyzLwU4VA78"
      }
    },
    {
      "cell_type": "code",
      "source": [
        "fruits = [\"apple\", \"banana\", \"cherry\"]\n",
        "fruits.append(\"orange\")\n",
        "print(fruits)\n",
        "fruits.extend([\"grape\", \"kiwi\"])\n",
        "print(fruits)\n",
        "fruits.insert(1, \"strawberry\")\n",
        "print(fruits)\n",
        "fruits.remove(\"banana\")\n",
        "print(fruits)\n",
        "fruits.pop(3)\n",
        "print(fruits)\n",
        "index = fruits.index(\"cherry\")\n",
        "print(index)\n",
        "count = fruits.count(\"kiwi\")\n",
        "print(count)\n",
        "fruits.sort()\n",
        "print(fruits)\n",
        "fruits.reverse()\n",
        "print(fruits)\n"
      ],
      "metadata": {
        "colab": {
          "base_uri": "https://localhost:8080/"
        },
        "id": "WXWlJfHpVe0A",
        "outputId": "6e591b24-b749-41e6-c3de-cc8f2e2f3ed7"
      },
      "execution_count": null,
      "outputs": [
        {
          "output_type": "stream",
          "name": "stdout",
          "text": [
            "['apple', 'banana', 'cherry', 'orange']\n",
            "['apple', 'banana', 'cherry', 'orange', 'grape', 'kiwi']\n",
            "['apple', 'strawberry', 'banana', 'cherry', 'orange', 'grape', 'kiwi']\n",
            "['apple', 'strawberry', 'cherry', 'orange', 'grape', 'kiwi']\n",
            "['apple', 'strawberry', 'cherry', 'grape', 'kiwi']\n",
            "2\n",
            "1\n",
            "['apple', 'cherry', 'grape', 'kiwi', 'strawberry']\n",
            "['strawberry', 'kiwi', 'grape', 'cherry', 'apple']\n"
          ]
        }
      ]
    },
    {
      "cell_type": "code",
      "source": [],
      "metadata": {
        "id": "O6HZfteSVvTB"
      },
      "execution_count": null,
      "outputs": []
    },
    {
      "cell_type": "markdown",
      "source": [
        "**Tuple:**\n",
        "\n",
        "Tuples are immutable, so they have limited methods.\n",
        "\n",
        "count(): Count the number of occurrences of a value.\n",
        "\n",
        "index(): Find the index of the first occurrence of a value."
      ],
      "metadata": {
        "id": "nVSUQpxeWVj5"
      }
    },
    {
      "cell_type": "code",
      "source": [
        "colors = (\"red\", \"green\", \"blue\", \"red\")\n",
        "count = colors.count(\"red\")\n",
        "print(count)\n",
        "index = colors.index(\"blue\")\n",
        "print(index)"
      ],
      "metadata": {
        "colab": {
          "base_uri": "https://localhost:8080/"
        },
        "id": "u9w32OCVWbYW",
        "outputId": "0b179dff-219d-448f-ab4f-83510223c193"
      },
      "execution_count": null,
      "outputs": [
        {
          "output_type": "stream",
          "name": "stdout",
          "text": [
            "2\n",
            "2\n"
          ]
        }
      ]
    },
    {
      "cell_type": "code",
      "source": [],
      "metadata": {
        "id": "07KBjf_fWlye"
      },
      "execution_count": null,
      "outputs": []
    },
    {
      "cell_type": "markdown",
      "source": [
        "**Set:**\n",
        "\n",
        "add(): Add an element to the set.\n",
        "\n",
        "remove(): Remove an element from the set. Raises an error if the element is not present.\n",
        "\n",
        "discard(): Remove an element from the set. Does not raise an error if the element is not present.\n",
        "\n",
        "union(): Return the union of two sets.\n",
        "\n",
        "intersection(): Return the intersection of two sets.\n",
        "\n",
        "difference(): Return the difference between two sets.\n",
        "\n",
        "symmetric_difference(): Return the symmetric difference between two sets."
      ],
      "metadata": {
        "id": "1_cW39kRWrnG"
      }
    },
    {
      "cell_type": "code",
      "source": [
        "fruits = {\"apple\", \"banana\", \"cherry\"}\n",
        "fruits.add(\"orange\")\n",
        "print(fruits)\n",
        "fruits.remove(\"banana\")\n",
        "print(fruits)\n",
        "fruits.discard(\"strawberry\")\n",
        "print(fruits)\n",
        "vegetables = {\"carrot\", \"broccoli\", \"cherry\"}\n",
        "union_set = fruits.union(vegetables)\n",
        "print(union_set)\n",
        "intersection_set = fruits.intersection(vegetables)\n",
        "print(intersection_set)\n",
        "difference_set = fruits.difference(vegetables)\n",
        "print(difference_set)\n",
        "symmetric_diff_set = fruits.symmetric_difference(vegetables)\n",
        "print(symmetric_diff_set)\n"
      ],
      "metadata": {
        "colab": {
          "base_uri": "https://localhost:8080/"
        },
        "id": "Y7-u2IySWzyK",
        "outputId": "75f69d87-c4b0-47a7-c6b5-eea4a49c9cd6"
      },
      "execution_count": null,
      "outputs": [
        {
          "output_type": "stream",
          "name": "stdout",
          "text": [
            "{'apple', 'orange', 'cherry', 'banana'}\n",
            "{'apple', 'orange', 'cherry'}\n",
            "{'apple', 'orange', 'cherry'}\n",
            "{'apple', 'cherry', 'orange', 'carrot', 'broccoli'}\n",
            "{'cherry'}\n",
            "{'apple', 'orange'}\n",
            "{'carrot', 'apple', 'orange', 'broccoli'}\n"
          ]
        }
      ]
    },
    {
      "cell_type": "code",
      "source": [],
      "metadata": {
        "id": "039-1Z3hXNlS"
      },
      "execution_count": null,
      "outputs": []
    },
    {
      "cell_type": "markdown",
      "source": [
        "**Dictionary:**\n",
        "\n",
        "keys(): Get a list of all keys.\n",
        "\n",
        "values(): Get a list of all values.\n",
        "\n",
        "items(): Get a list of key-value pairs.\n",
        "\n",
        "get(): Get the value for a specific key, with a default value if the key is not present.\n",
        "\n",
        "pop(): Remove and return the value for a specific key.\n",
        "\n",
        "update(): Update the dictionary with key-value pairs from another dictionary."
      ],
      "metadata": {
        "id": "sXftd-9aXrs8"
      }
    },
    {
      "cell_type": "code",
      "source": [
        "student = {\"name\": \"Alice\", \"age\": 25, \"grade\": \"A\"}\n",
        "keys = student.keys()\n",
        "print(keys)\n",
        "values = student.values()\n",
        "print(values)\n",
        "items = student.items()\n",
        "print(items)\n",
        "age = student.get(\"age\", 0)\n",
        "print(age)\n",
        "grade = student.pop(\"grade\")\n",
        "print(student)\n",
        "student.update({\"city\": \"New York\"})\n",
        "print(student)\n"
      ],
      "metadata": {
        "colab": {
          "base_uri": "https://localhost:8080/"
        },
        "id": "UeFBpr6bXyWR",
        "outputId": "e052fb58-de80-491d-bb4b-5494aacef614"
      },
      "execution_count": null,
      "outputs": [
        {
          "output_type": "stream",
          "name": "stdout",
          "text": [
            "dict_keys(['name', 'age', 'grade'])\n",
            "dict_values(['Alice', 25, 'A'])\n",
            "dict_items([('name', 'Alice'), ('age', 25), ('grade', 'A')])\n",
            "25\n",
            "{'name': 'Alice', 'age': 25}\n",
            "{'name': 'Alice', 'age': 25, 'city': 'New York'}\n"
          ]
        }
      ]
    },
    {
      "cell_type": "code",
      "source": [],
      "metadata": {
        "id": "VT4q--ZtX9c3"
      },
      "execution_count": null,
      "outputs": []
    },
    {
      "cell_type": "markdown",
      "source": [
        "**String:**\n",
        "\n",
        "upper(): Convert the string to uppercase.\n",
        "\n",
        "lower(): Convert the string to lowercase.\n",
        "\n",
        "strip(): Remove leading and trailing whitespace.\n",
        "\n",
        "split(): Split the string into a list of substrings.\n",
        "\n",
        "join(): Join a list of strings into one string.\n",
        "\n",
        "replace(): Replace a substring with another."
      ],
      "metadata": {
        "id": "Nr2AHf2fYfSn"
      }
    },
    {
      "cell_type": "code",
      "source": [
        "text = \"Hello, World\"\n",
        "uppercase_text = text.upper()\n",
        "print(uppercase_text)\n",
        "lowercase_text = text.lower()\n",
        "print(lowercase_text)\n",
        "stripped_text = text.strip()\n",
        "print(stripped_text)\n",
        "words = text.split(\", \")\n",
        "joined_text = \" - \".join(words)\n",
        "print(joined_text)\n",
        "replaced_text = text.replace(\"World\", \"Python\")\n",
        "print(replaced_text)\n"
      ],
      "metadata": {
        "colab": {
          "base_uri": "https://localhost:8080/"
        },
        "id": "CqlApE2gYlsG",
        "outputId": "21c84fa2-65ea-4ac0-fd7a-9c184dcd3e79"
      },
      "execution_count": null,
      "outputs": [
        {
          "output_type": "stream",
          "name": "stdout",
          "text": [
            "HELLO, WORLD\n",
            "hello, world\n",
            "Hello, World\n",
            "Hello - World\n",
            "Hello, Python\n"
          ]
        }
      ]
    },
    {
      "cell_type": "code",
      "source": [],
      "metadata": {
        "id": "84EIvckdY-Fs"
      },
      "execution_count": null,
      "outputs": []
    }
  ]
}